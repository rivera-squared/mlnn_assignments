{
 "cells": [
  {
   "cell_type": "markdown",
   "metadata": {},
   "source": [
    "# Assignment 5\n",
    "\n",
    "1. Choose a regression dataset (bikeshare is allowed), perform a test/train split, and build a regression model (just like in assingnment 3), and calculate the \n",
    "    + Training Error (MSE, MAE)\n",
    "    + Testing Error (MSE, MAE)\n",
    "2. Choose a classification dataset (not the adult.data set, The UCI repository has many datasets as well as Kaggle), perform test/train split and create a classification model (your choice but DecisionTree is fine). Calculate \n",
    "    + Accuracy\n",
    "    + Confusion Matrix\n",
    "    + Classifcation Report\n",
    "    \n",
    "3. (Bonus) See if you can improve the classification model's performance with any tricks you can think of (modify features, remove features, polynomial features)"
   ]
  },
  {
   "cell_type": "markdown",
   "metadata": {},
   "source": [
    "# Question 1"
   ]
  },
  {
   "cell_type": "code",
   "execution_count": 1,
   "metadata": {},
   "outputs": [],
   "source": [
    "%matplotlib inline\n",
    "import math\n",
    "import traceback\n",
    "import pandas as pd\n",
    "import numpy as np\n",
    "import matplotlib.pyplot as plt"
   ]
  },
  {
   "cell_type": "code",
   "execution_count": 2,
   "metadata": {},
   "outputs": [],
   "source": [
    "from sklearn.linear_model import LinearRegression\n",
    "import numpy as np\n",
    "import matplotlib.pylab as plt\n",
    "%matplotlib inline\n",
    "from sklearn import linear_model"
   ]
  },
  {
   "cell_type": "code",
   "execution_count": 181,
   "metadata": {},
   "outputs": [],
   "source": [
    "from sklearn.model_selection import train_test_split\n",
    "from sklearn.linear_model import Ridge\n",
    "from sklearn.metrics import mean_squared_error\n",
    "from sklearn.metrics import mean_absolute_error\n",
    "from sklearn.metrics import confusion_matrix\n",
    "from sklearn.metrics import accuracy_score\n",
    "from sklearn.metrics import classification_report"
   ]
  },
  {
   "cell_type": "markdown",
   "metadata": {},
   "source": [
    "### Loading dataset to be used"
   ]
  },
  {
   "cell_type": "code",
   "execution_count": 4,
   "metadata": {},
   "outputs": [],
   "source": [
    "data = pd.read_csv('/Users/edwardriverarivera/Desktop/validation/ml_validation.csv')"
   ]
  },
  {
   "cell_type": "code",
   "execution_count": 5,
   "metadata": {},
   "outputs": [],
   "source": [
    "day = pd.read_csv('/Users/edwardriverarivera/Desktop/mlnn/4/day.csv')"
   ]
  },
  {
   "cell_type": "code",
   "execution_count": 6,
   "metadata": {},
   "outputs": [
    {
     "data": {
      "text/plain": [
       "array([[ 89.],\n",
       "       [ 87.],\n",
       "       [ 98.],\n",
       "       [ 99.],\n",
       "       [ 98.],\n",
       "       [ 70.],\n",
       "       [ 58.],\n",
       "       [ 64.],\n",
       "       [ 71.],\n",
       "       [ 66.],\n",
       "       [ 66.],\n",
       "       [ 58.],\n",
       "       [ 61.],\n",
       "       [ 45.],\n",
       "       [ 55.],\n",
       "       [ 49.],\n",
       "       [ 48.],\n",
       "       [ 51.],\n",
       "       [ 39.],\n",
       "       [ 43.],\n",
       "       [ 52.],\n",
       "       [ 43.],\n",
       "       [ 36.],\n",
       "       [ 36.],\n",
       "       [ 43.],\n",
       "       [ 30.],\n",
       "       [ 24.],\n",
       "       [ 25.],\n",
       "       [ 33.],\n",
       "       [ 33.],\n",
       "       [ 21.],\n",
       "       [ 27.],\n",
       "       [ 17.],\n",
       "       [ 16.],\n",
       "       [ 16.],\n",
       "       [ 17.],\n",
       "       [  9.],\n",
       "       [  6.],\n",
       "       [ 16.],\n",
       "       [ 13.],\n",
       "       [  6.],\n",
       "       [  7.],\n",
       "       [  9.],\n",
       "       [  7.],\n",
       "       [  3.],\n",
       "       [  3.],\n",
       "       [  3.],\n",
       "       [  3.],\n",
       "       [  5.],\n",
       "       [  5.],\n",
       "       [  2.],\n",
       "       [  2.],\n",
       "       [  2.],\n",
       "       [  6.],\n",
       "       [  9.],\n",
       "       [  7.],\n",
       "       [  9.],\n",
       "       [  8.],\n",
       "       [ 18.],\n",
       "       [ 15.],\n",
       "       [ 20.],\n",
       "       [ 14.],\n",
       "       [ 24.],\n",
       "       [ 17.],\n",
       "       [ 41.],\n",
       "       [ 39.],\n",
       "       [ 40.],\n",
       "       [ 48.],\n",
       "       [ 37.],\n",
       "       [ 55.],\n",
       "       [ 69.],\n",
       "       [ 59.],\n",
       "       [ 70.],\n",
       "       [ 68.],\n",
       "       [ 60.],\n",
       "       [ 69.],\n",
       "       [ 82.],\n",
       "       [108.],\n",
       "       [104.],\n",
       "       [104.],\n",
       "       [127.],\n",
       "       [134.],\n",
       "       [127.],\n",
       "       [145.],\n",
       "       [161.],\n",
       "       [148.],\n",
       "       [239.],\n",
       "       [261.],\n",
       "       [228.],\n",
       "       [185.],\n",
       "       [200.],\n",
       "       [209.],\n",
       "       [238.],\n",
       "       [223.],\n",
       "       [308.],\n",
       "       [274.],\n",
       "       [341.],\n",
       "       [384.],\n",
       "       [355.],\n",
       "       [361.],\n",
       "       [284.],\n",
       "       [311.],\n",
       "       [328.],\n",
       "       [326.],\n",
       "       [344.],\n",
       "       [353.],\n",
       "       [390.],\n",
       "       [420.],\n",
       "       [387.],\n",
       "       [321.],\n",
       "       [405.],\n",
       "       [381.],\n",
       "       [389.],\n",
       "       [403.],\n",
       "       [402.],\n",
       "       [382.],\n",
       "       [407.],\n",
       "       [434.],\n",
       "       [470.],\n",
       "       [455.],\n",
       "       [424.],\n",
       "       [461.],\n",
       "       [442.],\n",
       "       [465.],\n",
       "       [448.],\n",
       "       [419.],\n",
       "       [397.],\n",
       "       [469.],\n",
       "       [500.],\n",
       "       [478.],\n",
       "       [404.],\n",
       "       [457.],\n",
       "       [420.],\n",
       "       [462.],\n",
       "       [379.],\n",
       "       [431.],\n",
       "       [446.],\n",
       "       [451.],\n",
       "       [442.],\n",
       "       [414.],\n",
       "       [431.],\n",
       "       [414.],\n",
       "       [440.],\n",
       "       [408.],\n",
       "       [391.],\n",
       "       [391.],\n",
       "       [396.],\n",
       "       [466.],\n",
       "       [416.],\n",
       "       [402.],\n",
       "       [413.],\n",
       "       [402.],\n",
       "       [469.],\n",
       "       [431.],\n",
       "       [429.],\n",
       "       [442.],\n",
       "       [433.],\n",
       "       [446.],\n",
       "       [422.],\n",
       "       [425.],\n",
       "       [388.],\n",
       "       [401.],\n",
       "       [418.],\n",
       "       [426.],\n",
       "       [373.],\n",
       "       [421.],\n",
       "       [453.],\n",
       "       [447.],\n",
       "       [367.],\n",
       "       [396.],\n",
       "       [353.],\n",
       "       [366.],\n",
       "       [376.],\n",
       "       [354.],\n",
       "       [382.],\n",
       "       [374.],\n",
       "       [337.],\n",
       "       [351.],\n",
       "       [342.],\n",
       "       [357.],\n",
       "       [347.],\n",
       "       [304.],\n",
       "       [339.],\n",
       "       [337.],\n",
       "       [350.],\n",
       "       [312.],\n",
       "       [287.],\n",
       "       [297.],\n",
       "       [295.],\n",
       "       [273.],\n",
       "       [239.],\n",
       "       [255.],\n",
       "       [270.],\n",
       "       [251.],\n",
       "       [255.],\n",
       "       [229.],\n",
       "       [217.],\n",
       "       [211.],\n",
       "       [227.],\n",
       "       [219.],\n",
       "       [204.],\n",
       "       [193.],\n",
       "       [209.],\n",
       "       [186.],\n",
       "       [184.],\n",
       "       [193.],\n",
       "       [168.],\n",
       "       [171.],\n",
       "       [136.],\n",
       "       [143.],\n",
       "       [137.],\n",
       "       [151.],\n",
       "       [156.],\n",
       "       [150.],\n",
       "       [146.],\n",
       "       [161.],\n",
       "       [123.],\n",
       "       [120.],\n",
       "       [139.],\n",
       "       [135.],\n",
       "       [111.],\n",
       "       [123.],\n",
       "       [120.],\n",
       "       [106.],\n",
       "       [123.],\n",
       "       [114.],\n",
       "       [115.],\n",
       "       [112.],\n",
       "       [ 86.],\n",
       "       [105.],\n",
       "       [117.],\n",
       "       [108.],\n",
       "       [121.],\n",
       "       [ 84.],\n",
       "       [103.],\n",
       "       [ 93.],\n",
       "       [ 95.],\n",
       "       [105.],\n",
       "       [ 93.],\n",
       "       [111.]])"
      ]
     },
     "execution_count": 6,
     "metadata": {},
     "output_type": "execute_result"
    }
   ],
   "source": [
    "saturday = day['5']\n",
    "saturday = saturday.to_numpy().reshape(-1,1)\n",
    "saturday"
   ]
  },
  {
   "cell_type": "code",
   "execution_count": 51,
   "metadata": {},
   "outputs": [],
   "source": [
    "hour = np.array(day.index)\n",
    "x = hour.reshape(-1,1)\n",
    "y = saturday"
   ]
  },
  {
   "cell_type": "code",
   "execution_count": 52,
   "metadata": {},
   "outputs": [
    {
     "data": {
      "text/plain": [
       "<matplotlib.collections.PathCollection at 0x7f9ed3881fd0>"
      ]
     },
     "execution_count": 52,
     "metadata": {},
     "output_type": "execute_result"
    },
    {
     "data": {
      "image/png": "[encoded data removed]",
      "text/plain": [
       "<Figure size 432x288 with 1 Axes>"
      ]
     },
     "metadata": {
      "needs_background": "light"
     },
     "output_type": "display_data"
    }
   ],
   "source": [
    "plt.scatter(x,y)"
   ]
  },
  {
   "cell_type": "markdown",
   "metadata": {},
   "source": [
    "### Original Model"
   ]
  },
  {
   "cell_type": "code",
   "execution_count": 9,
   "metadata": {},
   "outputs": [
    {
     "data": {
      "text/plain": [
       "LinearRegression()"
      ]
     },
     "execution_count": 9,
     "metadata": {},
     "output_type": "execute_result"
    }
   ],
   "source": [
    "model = LinearRegression() # Original model\n",
    "model.fit(x, y)"
   ]
  },
  {
   "cell_type": "code",
   "execution_count": 57,
   "metadata": {},
   "outputs": [
    {
     "data": {
      "text/plain": [
       "(array([[0.62449319]]), array([98.38934305]))"
      ]
     },
     "execution_count": 57,
     "metadata": {},
     "output_type": "execute_result"
    }
   ],
   "source": [
    "model.coef_, model.intercept_"
   ]
  },
  {
   "cell_type": "code",
   "execution_count": 58,
   "metadata": {},
   "outputs": [
    {
     "data": {
      "text/plain": [
       "[<matplotlib.lines.Line2D at 0x7f9ed354d100>]"
      ]
     },
     "execution_count": 58,
     "metadata": {},
     "output_type": "execute_result"
    },
    {
     "data": {
      "image/png": "[encoded data removed]",
      "text/plain": [
       "<Figure size 432x288 with 1 Axes>"
      ]
     },
     "metadata": {
      "needs_background": "light"
     },
     "output_type": "display_data"
    }
   ],
   "source": [
    "plt.scatter(x,y)\n",
    "plt.plot(x, np.dot(x, model.coef_) + model.intercept_)"
   ]
  },
  {
   "cell_type": "code",
   "execution_count": 59,
   "metadata": {},
   "outputs": [
    {
     "data": {
      "text/plain": [
       "23283.511955435875"
      ]
     },
     "execution_count": 59,
     "metadata": {},
     "output_type": "execute_result"
    }
   ],
   "source": [
    "mean_squared_error(y, np.dot(x, model.coef_) + model.intercept_)"
   ]
  },
  {
   "cell_type": "code",
   "execution_count": 62,
   "metadata": {},
   "outputs": [
    {
     "data": {
      "text/plain": [
       "131.04331461306876"
      ]
     },
     "execution_count": 62,
     "metadata": {},
     "output_type": "execute_result"
    }
   ],
   "source": [
    "mean_absolute_error(y, np.dot(x, model.coef_) + model.intercept_)"
   ]
  },
  {
   "cell_type": "markdown",
   "metadata": {},
   "source": [
    "### Splitting Model "
   ]
  },
  {
   "cell_type": "code",
   "execution_count": 63,
   "metadata": {},
   "outputs": [],
   "source": [
    "x_train, x_test, y_train, y_test = train_test_split(x, y, test_size=.5)"
   ]
  },
  {
   "cell_type": "code",
   "execution_count": 66,
   "metadata": {},
   "outputs": [
    {
     "data": {
      "text/plain": [
       "(array([[1.04643232]]), array([91.03834187]))"
      ]
     },
     "execution_count": 66,
     "metadata": {},
     "output_type": "execute_result"
    }
   ],
   "source": [
    "model = LinearRegression()\n",
    "model.fit(x_train, y_train)\n",
    "model.coef_, model.intercept_"
   ]
  },
  {
   "cell_type": "code",
   "execution_count": 67,
   "metadata": {},
   "outputs": [
    {
     "data": {
      "text/plain": [
       "(array([[0.98572382]]), array([92.5013355]))"
      ]
     },
     "execution_count": 67,
     "metadata": {},
     "output_type": "execute_result"
    }
   ],
   "source": [
    "model = LinearRegression()\n",
    "model.fit(x_test, y_test)\n",
    "model.coef_, model.intercept_"
   ]
  },
  {
   "cell_type": "code",
   "execution_count": 68,
   "metadata": {},
   "outputs": [
    {
     "data": {
      "text/plain": [
       "19747.917563573108"
      ]
     },
     "execution_count": 68,
     "metadata": {},
     "output_type": "execute_result"
    }
   ],
   "source": [
    "mean_squared_error(y_train, np.dot(x_train, model.coef_) + model.intercept_)"
   ]
  },
  {
   "cell_type": "code",
   "execution_count": 69,
   "metadata": {},
   "outputs": [
    {
     "data": {
      "text/plain": [
       "22172.73079772431"
      ]
     },
     "execution_count": 69,
     "metadata": {},
     "output_type": "execute_result"
    }
   ],
   "source": [
    "mean_squared_error(y_test, np.dot(x_test, model.coef_) + model.intercept_)"
   ]
  },
  {
   "cell_type": "code",
   "execution_count": 70,
   "metadata": {},
   "outputs": [
    {
     "data": {
      "text/plain": [
       "123.93394063673759"
      ]
     },
     "execution_count": 70,
     "metadata": {},
     "output_type": "execute_result"
    }
   ],
   "source": [
    "mean_absolute_error(y_train, np.dot(x_train, model.coef_) + model.intercept_)"
   ]
  },
  {
   "cell_type": "code",
   "execution_count": 71,
   "metadata": {},
   "outputs": [
    {
     "data": {
      "text/plain": [
       "133.68902499978856"
      ]
     },
     "execution_count": 71,
     "metadata": {},
     "output_type": "execute_result"
    }
   ],
   "source": [
    "mean_absolute_error(y_test, np.dot(x_test, model.coef_) + model.intercept_)"
   ]
  },
  {
   "cell_type": "markdown",
   "metadata": {},
   "source": [
    "### Ridge Model"
   ]
  },
  {
   "cell_type": "code",
   "execution_count": 72,
   "metadata": {},
   "outputs": [
    {
     "data": {
      "text/plain": [
       "(array([[1.04643045]]), array([91.03856028]))"
      ]
     },
     "execution_count": 72,
     "metadata": {},
     "output_type": "execute_result"
    }
   ],
   "source": [
    "model = Ridge()\n",
    "model.fit(x_train, y_train)\n",
    "model.coef_, model.intercept_"
   ]
  },
  {
   "cell_type": "code",
   "execution_count": 22,
   "metadata": {},
   "outputs": [
    {
     "data": {
      "text/plain": [
       "21479.088606408517"
      ]
     },
     "execution_count": 22,
     "metadata": {},
     "output_type": "execute_result"
    }
   ],
   "source": [
    "mean_squared_error(y_train, np.dot(x_train, model.coef_) + model.intercept_)"
   ]
  },
  {
   "cell_type": "code",
   "execution_count": 73,
   "metadata": {},
   "outputs": [
    {
     "data": {
      "text/plain": [
       "22226.24804561001"
      ]
     },
     "execution_count": 73,
     "metadata": {},
     "output_type": "execute_result"
    }
   ],
   "source": [
    "mean_squared_error(y_test, np.dot(x_test, model.coef_) + model.intercept_)"
   ]
  },
  {
   "cell_type": "code",
   "execution_count": 74,
   "metadata": {},
   "outputs": [
    {
     "data": {
      "text/plain": [
       "124.03171647046828"
      ]
     },
     "execution_count": 74,
     "metadata": {},
     "output_type": "execute_result"
    }
   ],
   "source": [
    "mean_absolute_error(y_train, np.dot(x_train, model.coef_) + model.intercept_)"
   ]
  },
  {
   "cell_type": "code",
   "execution_count": 75,
   "metadata": {},
   "outputs": [
    {
     "data": {
      "text/plain": [
       "133.4725259073452"
      ]
     },
     "execution_count": 75,
     "metadata": {},
     "output_type": "execute_result"
    }
   ],
   "source": [
    "mean_absolute_error(y_test, np.dot(x_test, model.coef_) + model.intercept_)"
   ]
  },
  {
   "cell_type": "markdown",
   "metadata": {},
   "source": [
    "## Question 2"
   ]
  },
  {
   "cell_type": "code",
   "execution_count": 90,
   "metadata": {},
   "outputs": [],
   "source": [
    "heart = pd.read_csv(\"heart.csv\")"
   ]
  },
  {
   "cell_type": "code",
   "execution_count": 91,
   "metadata": {},
   "outputs": [
    {
     "data": {
      "text/html": [
       "<div>\n",
       "<style scoped>\n",
       "    .dataframe tbody tr th:only-of-type {\n",
       "        vertical-align: middle;\n",
       "    }\n",
       "\n",
       "    .dataframe tbody tr th {\n",
       "        vertical-align: top;\n",
       "    }\n",
       "\n",
       "    .dataframe thead th {\n",
       "        text-align: right;\n",
       "    }\n",
       "</style>\n",
       "<table border=\"1\" class=\"dataframe\">\n",
       "  <thead>\n",
       "    <tr style=\"text-align: right;\">\n",
       "      <th></th>\n",
       "      <th>age</th>\n",
       "      <th>sex</th>\n",
       "      <th>cp</th>\n",
       "      <th>trestbps</th>\n",
       "      <th>chol</th>\n",
       "      <th>fbs</th>\n",
       "      <th>restecg</th>\n",
       "      <th>thalach</th>\n",
       "      <th>exang</th>\n",
       "      <th>oldpeak</th>\n",
       "      <th>slope</th>\n",
       "      <th>ca</th>\n",
       "      <th>thal</th>\n",
       "      <th>target</th>\n",
       "    </tr>\n",
       "  </thead>\n",
       "  <tbody>\n",
       "    <tr>\n",
       "      <th>0</th>\n",
       "      <td>63</td>\n",
       "      <td>1</td>\n",
       "      <td>3</td>\n",
       "      <td>145</td>\n",
       "      <td>233</td>\n",
       "      <td>1</td>\n",
       "      <td>0</td>\n",
       "      <td>150</td>\n",
       "      <td>0</td>\n",
       "      <td>2.3</td>\n",
       "      <td>0</td>\n",
       "      <td>0</td>\n",
       "      <td>1</td>\n",
       "      <td>1</td>\n",
       "    </tr>\n",
       "    <tr>\n",
       "      <th>1</th>\n",
       "      <td>37</td>\n",
       "      <td>1</td>\n",
       "      <td>2</td>\n",
       "      <td>130</td>\n",
       "      <td>250</td>\n",
       "      <td>0</td>\n",
       "      <td>1</td>\n",
       "      <td>187</td>\n",
       "      <td>0</td>\n",
       "      <td>3.5</td>\n",
       "      <td>0</td>\n",
       "      <td>0</td>\n",
       "      <td>2</td>\n",
       "      <td>1</td>\n",
       "    </tr>\n",
       "    <tr>\n",
       "      <th>2</th>\n",
       "      <td>41</td>\n",
       "      <td>0</td>\n",
       "      <td>1</td>\n",
       "      <td>130</td>\n",
       "      <td>204</td>\n",
       "      <td>0</td>\n",
       "      <td>0</td>\n",
       "      <td>172</td>\n",
       "      <td>0</td>\n",
       "      <td>1.4</td>\n",
       "      <td>2</td>\n",
       "      <td>0</td>\n",
       "      <td>2</td>\n",
       "      <td>1</td>\n",
       "    </tr>\n",
       "    <tr>\n",
       "      <th>3</th>\n",
       "      <td>56</td>\n",
       "      <td>1</td>\n",
       "      <td>1</td>\n",
       "      <td>120</td>\n",
       "      <td>236</td>\n",
       "      <td>0</td>\n",
       "      <td>1</td>\n",
       "      <td>178</td>\n",
       "      <td>0</td>\n",
       "      <td>0.8</td>\n",
       "      <td>2</td>\n",
       "      <td>0</td>\n",
       "      <td>2</td>\n",
       "      <td>1</td>\n",
       "    </tr>\n",
       "    <tr>\n",
       "      <th>4</th>\n",
       "      <td>57</td>\n",
       "      <td>0</td>\n",
       "      <td>0</td>\n",
       "      <td>120</td>\n",
       "      <td>354</td>\n",
       "      <td>0</td>\n",
       "      <td>1</td>\n",
       "      <td>163</td>\n",
       "      <td>1</td>\n",
       "      <td>0.6</td>\n",
       "      <td>2</td>\n",
       "      <td>0</td>\n",
       "      <td>2</td>\n",
       "      <td>1</td>\n",
       "    </tr>\n",
       "  </tbody>\n",
       "</table>\n",
       "</div>"
      ],
      "text/plain": [
       "   age  sex  cp  trestbps  chol  fbs  restecg  thalach  exang  oldpeak  slope  \\\n",
       "0   63    1   3       145   233    1        0      150      0      2.3      0   \n",
       "1   37    1   2       130   250    0        1      187      0      3.5      0   \n",
       "2   41    0   1       130   204    0        0      172      0      1.4      2   \n",
       "3   56    1   1       120   236    0        1      178      0      0.8      2   \n",
       "4   57    0   0       120   354    0        1      163      1      0.6      2   \n",
       "\n",
       "   ca  thal  target  \n",
       "0   0     1       1  \n",
       "1   0     2       1  \n",
       "2   0     2       1  \n",
       "3   0     2       1  \n",
       "4   0     2       1  "
      ]
     },
     "execution_count": 91,
     "metadata": {},
     "output_type": "execute_result"
    }
   ],
   "source": [
    "heart.head()"
   ]
  },
  {
   "cell_type": "code",
   "execution_count": 93,
   "metadata": {},
   "outputs": [],
   "source": [
    "x = heart['age']\n",
    "x = x.to_numpy().reshape(-1,1)"
   ]
  },
  {
   "cell_type": "code",
   "execution_count": 94,
   "metadata": {},
   "outputs": [],
   "source": [
    "y = heart['trestbps'] #trestbps is resting blood pressure (in mm Hg on admission to the hospital)\n",
    "y = y.to_numpy().reshape(-1,1)"
   ]
  },
  {
   "cell_type": "code",
   "execution_count": 95,
   "metadata": {},
   "outputs": [
    {
     "data": {
      "text/plain": [
       "<matplotlib.collections.PathCollection at 0x7f9ed3fd24f0>"
      ]
     },
     "execution_count": 95,
     "metadata": {},
     "output_type": "execute_result"
    },
    {
     "data": {
      "image/png": "[encoded data removed]",
      "text/plain": [
       "<Figure size 432x288 with 1 Axes>"
      ]
     },
     "metadata": {
      "needs_background": "light"
     },
     "output_type": "display_data"
    }
   ],
   "source": [
    "plt.scatter(x,y)"
   ]
  },
  {
   "cell_type": "markdown",
   "metadata": {},
   "source": [
    "### Splitting Model "
   ]
  },
  {
   "cell_type": "code",
   "execution_count": 102,
   "metadata": {},
   "outputs": [],
   "source": [
    "x_train, x_test, y_train, y_test = train_test_split(x, y, test_size=.5)"
   ]
  },
  {
   "cell_type": "code",
   "execution_count": 103,
   "metadata": {},
   "outputs": [
    {
     "data": {
      "text/plain": [
       "(array([[0.49493517]]), array([104.32730464]))"
      ]
     },
     "execution_count": 103,
     "metadata": {},
     "output_type": "execute_result"
    }
   ],
   "source": [
    "model = LinearRegression()\n",
    "model.fit(x_train, y_train)\n",
    "model.coef_, model.intercept_"
   ]
  },
  {
   "cell_type": "code",
   "execution_count": 104,
   "metadata": {},
   "outputs": [
    {
     "data": {
      "text/plain": [
       "[<matplotlib.lines.Line2D at 0x7f9ed422fee0>]"
      ]
     },
     "execution_count": 104,
     "metadata": {},
     "output_type": "execute_result"
    },
    {
     "data": {
      "image/png": "[encoded data removed]",
      "text/plain": [
       "<Figure size 432x288 with 1 Axes>"
      ]
     },
     "metadata": {
      "needs_background": "light"
     },
     "output_type": "display_data"
    }
   ],
   "source": [
    "plt.scatter(x,y)\n",
    "plt.plot(x_train, np.dot(x_train, model.coef_) + model.intercept_, color = 'red')"
   ]
  },
  {
   "cell_type": "code",
   "execution_count": 105,
   "metadata": {},
   "outputs": [
    {
     "data": {
      "text/plain": [
       "(array([[0.58848878]]), array([100.11846285]))"
      ]
     },
     "execution_count": 105,
     "metadata": {},
     "output_type": "execute_result"
    }
   ],
   "source": [
    "model = LinearRegression()\n",
    "model.fit(x_test, y_test)\n",
    "model.coef_, model.intercept_"
   ]
  },
  {
   "cell_type": "code",
   "execution_count": 106,
   "metadata": {},
   "outputs": [
    {
     "data": {
      "text/plain": [
       "[<matplotlib.lines.Line2D at 0x7f9ed43064c0>]"
      ]
     },
     "execution_count": 106,
     "metadata": {},
     "output_type": "execute_result"
    },
    {
     "data": {
      "image/png": "[encoded data removed]",
      "text/plain": [
       "<Figure size 432x288 with 1 Axes>"
      ]
     },
     "metadata": {
      "needs_background": "light"
     },
     "output_type": "display_data"
    }
   ],
   "source": [
    "plt.scatter(x,y)\n",
    "plt.plot(x_test, np.dot(x_test, model.coef_) + model.intercept_, color = 'green')"
   ]
  },
  {
   "cell_type": "code",
   "execution_count": 107,
   "metadata": {},
   "outputs": [
    {
     "data": {
      "text/plain": [
       "304.1528768028749"
      ]
     },
     "execution_count": 107,
     "metadata": {},
     "output_type": "execute_result"
    }
   ],
   "source": [
    "mean_squared_error(y_train, np.dot(x_train, model.coef_) + model.intercept_)"
   ]
  },
  {
   "cell_type": "code",
   "execution_count": 108,
   "metadata": {},
   "outputs": [
    {
     "data": {
      "text/plain": [
       "262.15370032117943"
      ]
     },
     "execution_count": 108,
     "metadata": {},
     "output_type": "execute_result"
    }
   ],
   "source": [
    "mean_squared_error(y_test, np.dot(x_test, model.coef_) + model.intercept_)"
   ]
  },
  {
   "cell_type": "code",
   "execution_count": 109,
   "metadata": {},
   "outputs": [
    {
     "data": {
      "text/plain": [
       "13.626463204146479"
      ]
     },
     "execution_count": 109,
     "metadata": {},
     "output_type": "execute_result"
    }
   ],
   "source": [
    "mean_absolute_error(y_train, np.dot(x_train, model.coef_) + model.intercept_)"
   ]
  },
  {
   "cell_type": "code",
   "execution_count": 110,
   "metadata": {},
   "outputs": [
    {
     "data": {
      "text/plain": [
       "12.354357537170102"
      ]
     },
     "execution_count": 110,
     "metadata": {},
     "output_type": "execute_result"
    }
   ],
   "source": [
    "mean_absolute_error(y_test, np.dot(x_test, model.coef_) + model.intercept_)"
   ]
  },
  {
   "cell_type": "code",
   "execution_count": null,
   "metadata": {},
   "outputs": [],
   "source": []
  },
  {
   "cell_type": "code",
   "execution_count": 119,
   "metadata": {},
   "outputs": [
    {
     "name": "stderr",
     "output_type": "stream",
     "text": [
      "<ipython-input-119-ac437fbd8521>:1: FutureWarning: `rcond` parameter will change to the default of machine precision times ``max(M, N)`` where M and N are the input matrix dimensions.\n",
      "To use the future default and silence this warning we advise to pass `rcond=None`, to keep using the old, explicitly pass `rcond=-1`.\n",
      "  beta = np.linalg.lstsq(x, y)[0]\n"
     ]
    },
    {
     "data": {
      "text/plain": [
       "numpy.ndarray"
      ]
     },
     "execution_count": 119,
     "metadata": {},
     "output_type": "execute_result"
    }
   ],
   "source": [
    "beta = np.linalg.lstsq(x, y)[0]\n"
   ]
  },
  {
   "cell_type": "code",
   "execution_count": 121,
   "metadata": {},
   "outputs": [],
   "source": [
    "beta = beta.tolist()"
   ]
  },
  {
   "cell_type": "code",
   "execution_count": 123,
   "metadata": {},
   "outputs": [
    {
     "data": {
      "text/plain": [
       "[[2.370132332124191]]"
      ]
     },
     "execution_count": 123,
     "metadata": {},
     "output_type": "execute_result"
    }
   ],
   "source": [
    "beta"
   ]
  },
  {
   "cell_type": "code",
   "execution_count": 164,
   "metadata": {},
   "outputs": [],
   "source": [
    "pred = np.dot(x, beta)"
   ]
  },
  {
   "cell_type": "code",
   "execution_count": 134,
   "metadata": {},
   "outputs": [
    {
     "data": {
      "text/plain": [
       "<matplotlib.collections.PathCollection at 0x7f9ed45df580>"
      ]
     },
     "execution_count": 134,
     "metadata": {},
     "output_type": "execute_result"
    },
    {
     "data": {
      "image/png": "[encoded data removed]",
      "text/plain": [
       "<Figure size 432x288 with 1 Axes>"
      ]
     },
     "metadata": {
      "needs_background": "light"
     },
     "output_type": "display_data"
    }
   ],
   "source": [
    "plt.scatter(x.T[0], pred, c='red')\n",
    "plt.scatter(x.T[0], y, c='b')"
   ]
  },
  {
   "cell_type": "code",
   "execution_count": 177,
   "metadata": {},
   "outputs": [],
   "source": [
    "pred = pred.astype(int) # In other to use the confusion matrix, it is important to use INTEGERS\n",
    "y_pred = pred\n"
   ]
  },
  {
   "cell_type": "code",
   "execution_count": 149,
   "metadata": {},
   "outputs": [],
   "source": [
    "y_true = y.T"
   ]
  },
  {
   "cell_type": "code",
   "execution_count": 180,
   "metadata": {},
   "outputs": [
    {
     "data": {
      "text/plain": [
       "0.009900990099009901"
      ]
     },
     "execution_count": 180,
     "metadata": {},
     "output_type": "execute_result"
    }
   ],
   "source": [
    "accuracy_score(y_true, y_pred)"
   ]
  },
  {
   "cell_type": "code",
   "execution_count": 179,
   "metadata": {},
   "outputs": [
    {
     "data": {
      "text/plain": [
       "array([[0., 0., 0., ..., 0., 0., 0.],\n",
       "       [0., 0., 0., ..., 0., 0., 0.],\n",
       "       [0., 0., 0., ..., 0., 0., 0.],\n",
       "       ...,\n",
       "       [0., 0., 0., ..., 0., 0., 0.],\n",
       "       [0., 0., 0., ..., 0., 0., 0.],\n",
       "       [0., 0., 0., ..., 0., 0., 0.]])"
      ]
     },
     "execution_count": 179,
     "metadata": {},
     "output_type": "execute_result"
    }
   ],
   "source": [
    "confusion_matrix(y_true, y_pred, normalize= 'true')"
   ]
  },
  {
   "cell_type": "code",
   "execution_count": 196,
   "metadata": {},
   "outputs": [],
   "source": [
    "names = heart['trestbps']"
   ]
  },
  {
   "cell_type": "code",
   "execution_count": 221,
   "metadata": {},
   "outputs": [
    {
     "data": {
      "text/plain": [
       "Int64Index([145, 130, 120, 140, 172, 150, 110, 135, 160, 105, 125, 142, 155,\n",
       "            104, 138, 128, 108, 134, 122, 115, 118, 100, 124,  94, 112, 102,\n",
       "            152, 101, 132, 148, 178, 129, 180, 136, 126, 106, 156, 170, 146,\n",
       "            117, 200, 165, 174, 192, 144, 123, 154, 114, 164],\n",
       "           dtype='int64')"
      ]
     },
     "execution_count": 221,
     "metadata": {},
     "output_type": "execute_result"
    }
   ],
   "source": [
    "code, trestbps = pd.factorize(names) # Need to factorieze IoT have a more concise classification report\n",
    "trestbps"
   ]
  },
  {
   "cell_type": "code",
   "execution_count": 224,
   "metadata": {},
   "outputs": [
    {
     "name": "stdout",
     "output_type": "stream",
     "text": [
      "              precision    recall  f1-score   support\n",
      "\n",
      "          68       0.00      0.00      0.00         0\n",
      "          80       0.00      0.00      0.00         0\n",
      "          82       0.00      0.00      0.00         0\n",
      "          87       0.00      0.00      0.00         0\n",
      "          90       0.00      0.00      0.00         0\n",
      "          92       0.00      0.00      0.00         0\n",
      "          94       0.00      0.00      0.00         2\n",
      "          97       0.00      0.00      0.00         0\n",
      "          99       0.00      0.00      0.00         0\n",
      "         100       0.00      0.00      0.00         4\n",
      "         101       0.00      0.00      0.00         1\n",
      "         102       0.00      0.00      0.00         2\n",
      "         104       0.00      0.00      0.00         1\n",
      "         105       0.00      0.00      0.00         3\n",
      "         106       0.00      0.00      0.00         1\n",
      "         108       0.00      0.00      0.00         6\n",
      "         109       0.00      0.00      0.00         0\n",
      "         110       0.00      0.00      0.00        19\n",
      "         111       0.00      0.00      0.00         0\n",
      "         112       0.00      0.00      0.00         9\n",
      "         113       0.00      0.00      0.00         0\n",
      "         114       0.00      0.00      0.00         1\n",
      "         115       0.00      0.00      0.00         3\n",
      "         116       0.00      0.00      0.00         0\n",
      "         117       0.00      0.00      0.00         1\n",
      "         118       0.00      0.00      0.00         7\n",
      "         120       0.08      0.03      0.04        37\n",
      "         122       0.00      0.00      0.00         4\n",
      "         123       0.00      0.00      0.00         1\n",
      "         124       0.00      0.00      0.00         6\n",
      "         125       0.00      0.00      0.00        11\n",
      "         126       0.00      0.00      0.00         3\n",
      "         127       0.00      0.00      0.00         0\n",
      "         128       0.00      0.00      0.00        12\n",
      "         129       0.00      0.00      0.00         1\n",
      "         130       0.12      0.03      0.05        36\n",
      "         132       0.09      0.12      0.11         8\n",
      "         134       0.00      0.00      0.00         5\n",
      "         135       0.00      0.00      0.00         6\n",
      "         136       0.00      0.00      0.00         3\n",
      "         137       0.00      0.00      0.00         0\n",
      "         138       0.00      0.00      0.00        13\n",
      "         139       0.00      0.00      0.00         0\n",
      "         140       0.00      0.00      0.00        32\n",
      "         142       0.00      0.00      0.00         3\n",
      "         144       0.00      0.00      0.00         2\n",
      "         145       0.00      0.00      0.00         5\n",
      "         146       0.00      0.00      0.00         2\n",
      "         148       0.00      0.00      0.00         2\n",
      "         149       0.00      0.00      0.00         0\n",
      "         150       0.00      0.00      0.00        17\n",
      "         151       0.00      0.00      0.00         0\n",
      "         152       0.00      0.00      0.00         5\n",
      "         154       0.00      0.00      0.00         1\n",
      "         155       0.00      0.00      0.00         1\n",
      "         156       0.00      0.00      0.00         1\n",
      "         158       0.00      0.00      0.00         0\n",
      "         160       0.00      0.00      0.00        11\n",
      "         161       0.00      0.00      0.00         0\n",
      "         163       0.00      0.00      0.00         0\n",
      "         164       0.00      0.00      0.00         1\n",
      "         165       0.00      0.00      0.00         1\n",
      "         168       0.00      0.00      0.00         0\n",
      "         170       0.00      0.00      0.00         4\n",
      "         172       0.00      0.00      0.00         1\n",
      "         174       0.00      0.00      0.00         1\n",
      "         175       0.00      0.00      0.00         0\n",
      "         178       0.00      0.00      0.00         2\n",
      "         180       0.00      0.00      0.00         3\n",
      "         182       0.00      0.00      0.00         0\n",
      "         192       0.00      0.00      0.00         1\n",
      "         200       0.00      0.00      0.00         1\n",
      "\n",
      "    accuracy                           0.01       303\n",
      "   macro avg       0.00      0.00      0.00       303\n",
      "weighted avg       0.03      0.01      0.01       303\n",
      "\n"
     ]
    }
   ],
   "source": [
    "#print(classification_report(y_true, y_pred, labels= trestbps))\n",
    "print(classification_report(y_true, y_pred))"
   ]
  }
 ],
 "metadata": {
  "kernelspec": {
   "display_name": "Python 3",
   "language": "python",
   "name": "python3"
  },
  "language_info": {
   "codemirror_mode": {
    "name": "ipython",
    "version": 3
   },
   "file_extension": ".py",
   "mimetype": "text/x-python",
   "name": "python",
   "nbconvert_exporter": "python",
   "pygments_lexer": "ipython3",
   "version": "3.8.5"
  }
 },
 "nbformat": 4,
 "nbformat_minor": 2
}
